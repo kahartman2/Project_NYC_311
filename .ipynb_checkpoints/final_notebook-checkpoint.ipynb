{
 "cells": [
  {
   "cell_type": "code",
   "execution_count": 106,
   "metadata": {},
   "outputs": [],
   "source": [
    "import pandas as pd\n",
    "import matplotlib.pyplot as plt\n",
    "from scipy import stats\n",
    "import seaborn as sns"
   ]
  },
  {
   "cell_type": "code",
   "execution_count": 79,
   "metadata": {},
   "outputs": [],
   "source": [
    "df = pd.read_csv('Housing-Table 1.csv')"
   ]
  },
  {
   "cell_type": "code",
   "execution_count": 80,
   "metadata": {},
   "outputs": [],
   "source": [
    "data = df.iloc[0:39, :]"
   ]
  },
  {
   "cell_type": "code",
   "execution_count": 82,
   "metadata": {},
   "outputs": [
    {
     "data": {
      "text/html": [
       "<div>\n",
       "<style scoped>\n",
       "    .dataframe tbody tr th:only-of-type {\n",
       "        vertical-align: middle;\n",
       "    }\n",
       "\n",
       "    .dataframe tbody tr th {\n",
       "        vertical-align: top;\n",
       "    }\n",
       "\n",
       "    .dataframe thead th {\n",
       "        text-align: right;\n",
       "    }\n",
       "</style>\n",
       "<table border=\"1\" class=\"dataframe\">\n",
       "  <thead>\n",
       "    <tr style=\"text-align: right;\">\n",
       "      <th></th>\n",
       "      <th>Metro Area</th>\n",
       "      <th>2005:Q1</th>\n",
       "      <th>2006:Q2</th>\n",
       "      <th>2012:Q1</th>\n",
       "      <th>Change 2005-2006</th>\n",
       "      <th>Change 2006-2012</th>\n",
       "      <th>Unnamed: 6</th>\n",
       "      <th>Metro Area.1</th>\n",
       "      <th>2005:Q1.1</th>\n",
       "      <th>2006:Q2.1</th>\n",
       "      <th>2012:Q1.1</th>\n",
       "      <th>Change 2005-2006.1</th>\n",
       "      <th>Change 2006-2012.1</th>\n",
       "    </tr>\n",
       "  </thead>\n",
       "  <tbody>\n",
       "    <tr>\n",
       "      <th>0</th>\n",
       "      <td>Atlanta-Sandy Springs-Roswell, GA</td>\n",
       "      <td>178.44</td>\n",
       "      <td>182.75</td>\n",
       "      <td>110.79</td>\n",
       "      <td>2%</td>\n",
       "      <td>-39%</td>\n",
       "      <td>NaN</td>\n",
       "      <td>Atlanta-Sandy Springs-Roswell, GA</td>\n",
       "      <td>178.44</td>\n",
       "      <td>182.75</td>\n",
       "      <td>110.79</td>\n",
       "      <td>2%</td>\n",
       "      <td>-39%</td>\n",
       "    </tr>\n",
       "    <tr>\n",
       "      <th>1</th>\n",
       "      <td>Austin-Round Rock, TX</td>\n",
       "      <td>206.80</td>\n",
       "      <td>229.44</td>\n",
       "      <td>243.07</td>\n",
       "      <td>11%</td>\n",
       "      <td>6%</td>\n",
       "      <td>NaN</td>\n",
       "      <td>Austin-Round Rock, TX</td>\n",
       "      <td>206.80</td>\n",
       "      <td>229.44</td>\n",
       "      <td>243.07</td>\n",
       "      <td>11%</td>\n",
       "      <td>6%</td>\n",
       "    </tr>\n",
       "    <tr>\n",
       "      <th>2</th>\n",
       "      <td>Baltimore-Columbia-Towson, MD</td>\n",
       "      <td>194.48</td>\n",
       "      <td>238.84</td>\n",
       "      <td>178.13</td>\n",
       "      <td>23%</td>\n",
       "      <td>-25%</td>\n",
       "      <td>NaN</td>\n",
       "      <td>Baltimore-Columbia-Towson, MD</td>\n",
       "      <td>194.48</td>\n",
       "      <td>238.84</td>\n",
       "      <td>178.13</td>\n",
       "      <td>23%</td>\n",
       "      <td>-25%</td>\n",
       "    </tr>\n",
       "    <tr>\n",
       "      <th>3</th>\n",
       "      <td>Boston, MA  (MSAD)</td>\n",
       "      <td>273.67</td>\n",
       "      <td>280.17</td>\n",
       "      <td>212.89</td>\n",
       "      <td>2%</td>\n",
       "      <td>-24%</td>\n",
       "      <td>NaN</td>\n",
       "      <td>Boston, MA  (MSAD)</td>\n",
       "      <td>273.67</td>\n",
       "      <td>280.17</td>\n",
       "      <td>212.89</td>\n",
       "      <td>2%</td>\n",
       "      <td>-24%</td>\n",
       "    </tr>\n",
       "    <tr>\n",
       "      <th>4</th>\n",
       "      <td>Charlotte-Concord-Gastonia, NC-SC</td>\n",
       "      <td>165.27</td>\n",
       "      <td>178.09</td>\n",
       "      <td>147.44</td>\n",
       "      <td>8%</td>\n",
       "      <td>-17%</td>\n",
       "      <td>NaN</td>\n",
       "      <td>Charlotte-Concord-Gastonia, NC-SC</td>\n",
       "      <td>165.27</td>\n",
       "      <td>178.09</td>\n",
       "      <td>147.44</td>\n",
       "      <td>8%</td>\n",
       "      <td>-17%</td>\n",
       "    </tr>\n",
       "  </tbody>\n",
       "</table>\n",
       "</div>"
      ],
      "text/plain": [
       "                          Metro Area  2005:Q1  2006:Q2  2012:Q1  \\\n",
       "0  Atlanta-Sandy Springs-Roswell, GA   178.44   182.75   110.79   \n",
       "1              Austin-Round Rock, TX   206.80   229.44   243.07   \n",
       "2      Baltimore-Columbia-Towson, MD   194.48   238.84   178.13   \n",
       "3                 Boston, MA  (MSAD)   273.67   280.17   212.89   \n",
       "4  Charlotte-Concord-Gastonia, NC-SC   165.27   178.09   147.44   \n",
       "\n",
       "  Change 2005-2006 Change 2006-2012  Unnamed: 6  \\\n",
       "0               2%             -39%         NaN   \n",
       "1              11%               6%         NaN   \n",
       "2              23%             -25%         NaN   \n",
       "3               2%             -24%         NaN   \n",
       "4               8%             -17%         NaN   \n",
       "\n",
       "                        Metro Area.1  2005:Q1.1  2006:Q2.1  2012:Q1.1  \\\n",
       "0  Atlanta-Sandy Springs-Roswell, GA     178.44     182.75     110.79   \n",
       "1              Austin-Round Rock, TX     206.80     229.44     243.07   \n",
       "2      Baltimore-Columbia-Towson, MD     194.48     238.84     178.13   \n",
       "3                 Boston, MA  (MSAD)     273.67     280.17     212.89   \n",
       "4  Charlotte-Concord-Gastonia, NC-SC     165.27     178.09     147.44   \n",
       "\n",
       "  Change 2005-2006.1 Change 2006-2012.1  \n",
       "0                 2%               -39%  \n",
       "1                11%                 6%  \n",
       "2                23%               -25%  \n",
       "3                 2%               -24%  \n",
       "4                 8%               -17%  "
      ]
     },
     "execution_count": 82,
     "metadata": {},
     "output_type": "execute_result"
    }
   ],
   "source": [
    "data.head()"
   ]
  },
  {
   "cell_type": "code",
   "execution_count": 92,
   "metadata": {},
   "outputs": [
    {
     "name": "stderr",
     "output_type": "stream",
     "text": [
      "/anaconda3/lib/python3.7/site-packages/ipykernel_launcher.py:1: SettingWithCopyWarning: \n",
      "A value is trying to be set on a copy of a slice from a DataFrame.\n",
      "Try using .loc[row_indexer,col_indexer] = value instead\n",
      "\n",
      "See the caveats in the documentation: http://pandas.pydata.org/pandas-docs/stable/indexing.html#indexing-view-versus-copy\n",
      "  \"\"\"Entry point for launching an IPython kernel.\n",
      "/anaconda3/lib/python3.7/site-packages/ipykernel_launcher.py:2: SettingWithCopyWarning: \n",
      "A value is trying to be set on a copy of a slice from a DataFrame.\n",
      "Try using .loc[row_indexer,col_indexer] = value instead\n",
      "\n",
      "See the caveats in the documentation: http://pandas.pydata.org/pandas-docs/stable/indexing.html#indexing-view-versus-copy\n",
      "  \n"
     ]
    }
   ],
   "source": [
    "data['Change 2005-2006.1'] = data['Change 2005-2006.1'].apply(lambda x: str(x).split('%')[0])\n",
    "data['Change 2006-2012.1'] = data['Change 2006-2012.1'].apply(lambda x: str(x).split('%')[0])"
   ]
  },
  {
   "cell_type": "code",
   "execution_count": 93,
   "metadata": {},
   "outputs": [
    {
     "name": "stderr",
     "output_type": "stream",
     "text": [
      "/anaconda3/lib/python3.7/site-packages/ipykernel_launcher.py:1: SettingWithCopyWarning: \n",
      "A value is trying to be set on a copy of a slice from a DataFrame.\n",
      "Try using .loc[row_indexer,col_indexer] = value instead\n",
      "\n",
      "See the caveats in the documentation: http://pandas.pydata.org/pandas-docs/stable/indexing.html#indexing-view-versus-copy\n",
      "  \"\"\"Entry point for launching an IPython kernel.\n",
      "/anaconda3/lib/python3.7/site-packages/ipykernel_launcher.py:2: SettingWithCopyWarning: \n",
      "A value is trying to be set on a copy of a slice from a DataFrame.\n",
      "Try using .loc[row_indexer,col_indexer] = value instead\n",
      "\n",
      "See the caveats in the documentation: http://pandas.pydata.org/pandas-docs/stable/indexing.html#indexing-view-versus-copy\n",
      "  \n"
     ]
    }
   ],
   "source": [
    "data['Change 2005-2006.1'] = data['Change 2005-2006.1'].apply(lambda x: int(x))\n",
    "data['Change 2006-2012.1'] = data['Change 2006-2012.1'].apply(lambda x: int(x))"
   ]
  },
  {
   "cell_type": "code",
   "execution_count": 94,
   "metadata": {},
   "outputs": [
    {
     "data": {
      "text/html": [
       "<div>\n",
       "<style scoped>\n",
       "    .dataframe tbody tr th:only-of-type {\n",
       "        vertical-align: middle;\n",
       "    }\n",
       "\n",
       "    .dataframe tbody tr th {\n",
       "        vertical-align: top;\n",
       "    }\n",
       "\n",
       "    .dataframe thead th {\n",
       "        text-align: right;\n",
       "    }\n",
       "</style>\n",
       "<table border=\"1\" class=\"dataframe\">\n",
       "  <thead>\n",
       "    <tr style=\"text-align: right;\">\n",
       "      <th></th>\n",
       "      <th>Metro Area</th>\n",
       "      <th>2005:Q1</th>\n",
       "      <th>2006:Q2</th>\n",
       "      <th>2012:Q1</th>\n",
       "      <th>Change 2005-2006</th>\n",
       "      <th>Change 2006-2012</th>\n",
       "      <th>Unnamed: 6</th>\n",
       "      <th>Metro Area.1</th>\n",
       "      <th>2005:Q1.1</th>\n",
       "      <th>2006:Q2.1</th>\n",
       "      <th>2012:Q1.1</th>\n",
       "      <th>Change 2005-2006.1</th>\n",
       "      <th>Change 2006-2012.1</th>\n",
       "    </tr>\n",
       "  </thead>\n",
       "  <tbody>\n",
       "    <tr>\n",
       "      <th>0</th>\n",
       "      <td>Atlanta-Sandy Springs-Roswell, GA</td>\n",
       "      <td>178.44</td>\n",
       "      <td>182.75</td>\n",
       "      <td>110.79</td>\n",
       "      <td>2%</td>\n",
       "      <td>-39%</td>\n",
       "      <td>NaN</td>\n",
       "      <td>Atlanta-Sandy Springs-Roswell, GA</td>\n",
       "      <td>178.44</td>\n",
       "      <td>182.75</td>\n",
       "      <td>110.79</td>\n",
       "      <td>2</td>\n",
       "      <td>-39</td>\n",
       "    </tr>\n",
       "    <tr>\n",
       "      <th>1</th>\n",
       "      <td>Austin-Round Rock, TX</td>\n",
       "      <td>206.80</td>\n",
       "      <td>229.44</td>\n",
       "      <td>243.07</td>\n",
       "      <td>11%</td>\n",
       "      <td>6%</td>\n",
       "      <td>NaN</td>\n",
       "      <td>Austin-Round Rock, TX</td>\n",
       "      <td>206.80</td>\n",
       "      <td>229.44</td>\n",
       "      <td>243.07</td>\n",
       "      <td>11</td>\n",
       "      <td>6</td>\n",
       "    </tr>\n",
       "    <tr>\n",
       "      <th>2</th>\n",
       "      <td>Baltimore-Columbia-Towson, MD</td>\n",
       "      <td>194.48</td>\n",
       "      <td>238.84</td>\n",
       "      <td>178.13</td>\n",
       "      <td>23%</td>\n",
       "      <td>-25%</td>\n",
       "      <td>NaN</td>\n",
       "      <td>Baltimore-Columbia-Towson, MD</td>\n",
       "      <td>194.48</td>\n",
       "      <td>238.84</td>\n",
       "      <td>178.13</td>\n",
       "      <td>23</td>\n",
       "      <td>-25</td>\n",
       "    </tr>\n",
       "    <tr>\n",
       "      <th>3</th>\n",
       "      <td>Boston, MA  (MSAD)</td>\n",
       "      <td>273.67</td>\n",
       "      <td>280.17</td>\n",
       "      <td>212.89</td>\n",
       "      <td>2%</td>\n",
       "      <td>-24%</td>\n",
       "      <td>NaN</td>\n",
       "      <td>Boston, MA  (MSAD)</td>\n",
       "      <td>273.67</td>\n",
       "      <td>280.17</td>\n",
       "      <td>212.89</td>\n",
       "      <td>2</td>\n",
       "      <td>-24</td>\n",
       "    </tr>\n",
       "    <tr>\n",
       "      <th>4</th>\n",
       "      <td>Charlotte-Concord-Gastonia, NC-SC</td>\n",
       "      <td>165.27</td>\n",
       "      <td>178.09</td>\n",
       "      <td>147.44</td>\n",
       "      <td>8%</td>\n",
       "      <td>-17%</td>\n",
       "      <td>NaN</td>\n",
       "      <td>Charlotte-Concord-Gastonia, NC-SC</td>\n",
       "      <td>165.27</td>\n",
       "      <td>178.09</td>\n",
       "      <td>147.44</td>\n",
       "      <td>8</td>\n",
       "      <td>-17</td>\n",
       "    </tr>\n",
       "  </tbody>\n",
       "</table>\n",
       "</div>"
      ],
      "text/plain": [
       "                          Metro Area  2005:Q1  2006:Q2  2012:Q1  \\\n",
       "0  Atlanta-Sandy Springs-Roswell, GA   178.44   182.75   110.79   \n",
       "1              Austin-Round Rock, TX   206.80   229.44   243.07   \n",
       "2      Baltimore-Columbia-Towson, MD   194.48   238.84   178.13   \n",
       "3                 Boston, MA  (MSAD)   273.67   280.17   212.89   \n",
       "4  Charlotte-Concord-Gastonia, NC-SC   165.27   178.09   147.44   \n",
       "\n",
       "  Change 2005-2006 Change 2006-2012  Unnamed: 6  \\\n",
       "0               2%             -39%         NaN   \n",
       "1              11%               6%         NaN   \n",
       "2              23%             -25%         NaN   \n",
       "3               2%             -24%         NaN   \n",
       "4               8%             -17%         NaN   \n",
       "\n",
       "                        Metro Area.1  2005:Q1.1  2006:Q2.1  2012:Q1.1  \\\n",
       "0  Atlanta-Sandy Springs-Roswell, GA     178.44     182.75     110.79   \n",
       "1              Austin-Round Rock, TX     206.80     229.44     243.07   \n",
       "2      Baltimore-Columbia-Towson, MD     194.48     238.84     178.13   \n",
       "3                 Boston, MA  (MSAD)     273.67     280.17     212.89   \n",
       "4  Charlotte-Concord-Gastonia, NC-SC     165.27     178.09     147.44   \n",
       "\n",
       "   Change 2005-2006.1  Change 2006-2012.1  \n",
       "0                   2                 -39  \n",
       "1                  11                   6  \n",
       "2                  23                 -25  \n",
       "3                   2                 -24  \n",
       "4                   8                 -17  "
      ]
     },
     "execution_count": 94,
     "metadata": {},
     "output_type": "execute_result"
    }
   ],
   "source": [
    "data.head()"
   ]
  },
  {
   "cell_type": "code",
   "execution_count": 95,
   "metadata": {},
   "outputs": [
    {
     "data": {
      "text/html": [
       "<div>\n",
       "<style scoped>\n",
       "    .dataframe tbody tr th:only-of-type {\n",
       "        vertical-align: middle;\n",
       "    }\n",
       "\n",
       "    .dataframe tbody tr th {\n",
       "        vertical-align: top;\n",
       "    }\n",
       "\n",
       "    .dataframe thead th {\n",
       "        text-align: right;\n",
       "    }\n",
       "</style>\n",
       "<table border=\"1\" class=\"dataframe\">\n",
       "  <thead>\n",
       "    <tr style=\"text-align: right;\">\n",
       "      <th></th>\n",
       "      <th>2005:Q1</th>\n",
       "      <th>2006:Q2</th>\n",
       "      <th>2012:Q1</th>\n",
       "      <th>Unnamed: 6</th>\n",
       "      <th>2005:Q1.1</th>\n",
       "      <th>2006:Q2.1</th>\n",
       "      <th>2012:Q1.1</th>\n",
       "      <th>Change 2005-2006.1</th>\n",
       "      <th>Change 2006-2012.1</th>\n",
       "    </tr>\n",
       "  </thead>\n",
       "  <tbody>\n",
       "    <tr>\n",
       "      <th>count</th>\n",
       "      <td>39.000000</td>\n",
       "      <td>39.000000</td>\n",
       "      <td>39.000000</td>\n",
       "      <td>0.0</td>\n",
       "      <td>39.000000</td>\n",
       "      <td>39.000000</td>\n",
       "      <td>39.000000</td>\n",
       "      <td>39.000000</td>\n",
       "      <td>39.000000</td>\n",
       "    </tr>\n",
       "    <tr>\n",
       "      <th>mean</th>\n",
       "      <td>216.339744</td>\n",
       "      <td>244.855128</td>\n",
       "      <td>163.318718</td>\n",
       "      <td>NaN</td>\n",
       "      <td>216.339744</td>\n",
       "      <td>244.855128</td>\n",
       "      <td>163.318718</td>\n",
       "      <td>12.589744</td>\n",
       "      <td>-31.589744</td>\n",
       "    </tr>\n",
       "    <tr>\n",
       "      <th>std</th>\n",
       "      <td>40.366734</td>\n",
       "      <td>55.742983</td>\n",
       "      <td>41.263533</td>\n",
       "      <td>NaN</td>\n",
       "      <td>40.366734</td>\n",
       "      <td>55.742983</td>\n",
       "      <td>41.263533</td>\n",
       "      <td>10.004520</td>\n",
       "      <td>17.217980</td>\n",
       "    </tr>\n",
       "    <tr>\n",
       "      <th>min</th>\n",
       "      <td>150.890000</td>\n",
       "      <td>151.650000</td>\n",
       "      <td>70.950000</td>\n",
       "      <td>NaN</td>\n",
       "      <td>150.890000</td>\n",
       "      <td>151.650000</td>\n",
       "      <td>70.950000</td>\n",
       "      <td>-4.000000</td>\n",
       "      <td>-63.000000</td>\n",
       "    </tr>\n",
       "    <tr>\n",
       "      <th>25%</th>\n",
       "      <td>182.225000</td>\n",
       "      <td>192.250000</td>\n",
       "      <td>130.925000</td>\n",
       "      <td>NaN</td>\n",
       "      <td>182.225000</td>\n",
       "      <td>192.250000</td>\n",
       "      <td>130.925000</td>\n",
       "      <td>5.000000</td>\n",
       "      <td>-45.000000</td>\n",
       "    </tr>\n",
       "    <tr>\n",
       "      <th>50%</th>\n",
       "      <td>217.360000</td>\n",
       "      <td>259.340000</td>\n",
       "      <td>163.160000</td>\n",
       "      <td>NaN</td>\n",
       "      <td>217.360000</td>\n",
       "      <td>259.340000</td>\n",
       "      <td>163.160000</td>\n",
       "      <td>11.000000</td>\n",
       "      <td>-29.000000</td>\n",
       "    </tr>\n",
       "    <tr>\n",
       "      <th>75%</th>\n",
       "      <td>247.270000</td>\n",
       "      <td>280.950000</td>\n",
       "      <td>183.875000</td>\n",
       "      <td>NaN</td>\n",
       "      <td>247.270000</td>\n",
       "      <td>280.950000</td>\n",
       "      <td>183.875000</td>\n",
       "      <td>22.000000</td>\n",
       "      <td>-21.500000</td>\n",
       "    </tr>\n",
       "    <tr>\n",
       "      <th>max</th>\n",
       "      <td>287.470000</td>\n",
       "      <td>376.680000</td>\n",
       "      <td>257.440000</td>\n",
       "      <td>NaN</td>\n",
       "      <td>287.470000</td>\n",
       "      <td>376.680000</td>\n",
       "      <td>257.440000</td>\n",
       "      <td>33.000000</td>\n",
       "      <td>6.000000</td>\n",
       "    </tr>\n",
       "  </tbody>\n",
       "</table>\n",
       "</div>"
      ],
      "text/plain": [
       "          2005:Q1     2006:Q2     2012:Q1  Unnamed: 6   2005:Q1.1   2006:Q2.1  \\\n",
       "count   39.000000   39.000000   39.000000         0.0   39.000000   39.000000   \n",
       "mean   216.339744  244.855128  163.318718         NaN  216.339744  244.855128   \n",
       "std     40.366734   55.742983   41.263533         NaN   40.366734   55.742983   \n",
       "min    150.890000  151.650000   70.950000         NaN  150.890000  151.650000   \n",
       "25%    182.225000  192.250000  130.925000         NaN  182.225000  192.250000   \n",
       "50%    217.360000  259.340000  163.160000         NaN  217.360000  259.340000   \n",
       "75%    247.270000  280.950000  183.875000         NaN  247.270000  280.950000   \n",
       "max    287.470000  376.680000  257.440000         NaN  287.470000  376.680000   \n",
       "\n",
       "        2012:Q1.1  Change 2005-2006.1  Change 2006-2012.1  \n",
       "count   39.000000           39.000000           39.000000  \n",
       "mean   163.318718           12.589744          -31.589744  \n",
       "std     41.263533           10.004520           17.217980  \n",
       "min     70.950000           -4.000000          -63.000000  \n",
       "25%    130.925000            5.000000          -45.000000  \n",
       "50%    163.160000           11.000000          -29.000000  \n",
       "75%    183.875000           22.000000          -21.500000  \n",
       "max    257.440000           33.000000            6.000000  "
      ]
     },
     "execution_count": 95,
     "metadata": {},
     "output_type": "execute_result"
    }
   ],
   "source": [
    "data.describe()"
   ]
  },
  {
   "cell_type": "code",
   "execution_count": 102,
   "metadata": {},
   "outputs": [
    {
     "data": {
      "text/plain": [
       "{'whiskers': [<matplotlib.lines.Line2D at 0x118b4db70>,\n",
       "  <matplotlib.lines.Line2D at 0x118b4df98>],\n",
       " 'caps': [<matplotlib.lines.Line2D at 0x118b56400>,\n",
       "  <matplotlib.lines.Line2D at 0x118b56828>],\n",
       " 'boxes': [<matplotlib.lines.Line2D at 0x118b4d630>],\n",
       " 'medians': [<matplotlib.lines.Line2D at 0x118b56c50>],\n",
       " 'fliers': [<matplotlib.lines.Line2D at 0x118b56d30>],\n",
       " 'means': []}"
      ]
     },
     "execution_count": 102,
     "metadata": {},
     "output_type": "execute_result"
    },
    {
     "data": {
      "image/png": "[encoded data removed]",
      "text/plain": [
       "<Figure size 432x288 with 1 Axes>"
      ]
     },
     "metadata": {
      "needs_background": "light"
     },
     "output_type": "display_data"
    }
   ],
   "source": [
    "plt.boxplot(data['Change 2005-2006.1'])"
   ]
  },
  {
   "cell_type": "code",
   "execution_count": 103,
   "metadata": {},
   "outputs": [
    {
     "data": {
      "text/plain": [
       "{'whiskers': [<matplotlib.lines.Line2D at 0x118bad7b8>,\n",
       "  <matplotlib.lines.Line2D at 0x118badbe0>],\n",
       " 'caps': [<matplotlib.lines.Line2D at 0x118badcc0>,\n",
       "  <matplotlib.lines.Line2D at 0x118bb5470>],\n",
       " 'boxes': [<matplotlib.lines.Line2D at 0x118bad278>],\n",
       " 'medians': [<matplotlib.lines.Line2D at 0x118bb5898>],\n",
       " 'fliers': [<matplotlib.lines.Line2D at 0x118bb5cc0>],\n",
       " 'means': []}"
      ]
     },
     "execution_count": 103,
     "metadata": {},
     "output_type": "execute_result"
    },
    {
     "data": {
      "image/png": "[encoded data removed]",
      "text/plain": [
       "<Figure size 432x288 with 1 Axes>"
      ]
     },
     "metadata": {
      "needs_background": "light"
     },
     "output_type": "display_data"
    }
   ],
   "source": [
    "plt.boxplot(data['Change 2006-2012.1'])"
   ]
  },
  {
   "cell_type": "code",
   "execution_count": 107,
   "metadata": {},
   "outputs": [
    {
     "name": "stderr",
     "output_type": "stream",
     "text": [
      "/anaconda3/lib/python3.7/site-packages/scipy/stats/stats.py:1713: FutureWarning: Using a non-tuple sequence for multidimensional indexing is deprecated; use `arr[tuple(seq)]` instead of `arr[seq]`. In the future this will be interpreted as an array index, `arr[np.array(seq)]`, which will result either in an error or a different result.\n",
      "  return np.add.reduce(sorted[indexer] * weights, axis=axis) / sumval\n"
     ]
    },
    {
     "data": {
      "text/plain": [
       "<matplotlib.axes._subplots.AxesSubplot at 0x1a1a8a4ac8>"
      ]
     },
     "execution_count": 107,
     "metadata": {},
     "output_type": "execute_result"
    },
    {
     "data": {
      "image/png": "[encoded data removed]",
      "text/plain": [
       "<Figure size 864x720 with 1 Axes>"
      ]
     },
     "metadata": {},
     "output_type": "display_data"
    }
   ],
   "source": [
    "sns.set(color_codes=True)\n",
    "sns.set(rc={'figure.figsize':(12,10)})\n",
    "sns.distplot(data['Change 2005-2006.1'])"
   ]
  },
  {
   "cell_type": "code",
   "execution_count": 108,
   "metadata": {},
   "outputs": [
    {
     "name": "stderr",
     "output_type": "stream",
     "text": [
      "/anaconda3/lib/python3.7/site-packages/scipy/stats/stats.py:1713: FutureWarning: Using a non-tuple sequence for multidimensional indexing is deprecated; use `arr[tuple(seq)]` instead of `arr[seq]`. In the future this will be interpreted as an array index, `arr[np.array(seq)]`, which will result either in an error or a different result.\n",
      "  return np.add.reduce(sorted[indexer] * weights, axis=axis) / sumval\n"
     ]
    },
    {
     "data": {
      "text/plain": [
       "<matplotlib.axes._subplots.AxesSubplot at 0x1a1b1869e8>"
      ]
     },
     "execution_count": 108,
     "metadata": {},
     "output_type": "execute_result"
    },
    {
     "data": {
      "image/png": "[encoded data removed]",
      "text/plain": [
       "<Figure size 864x720 with 1 Axes>"
      ]
     },
     "metadata": {},
     "output_type": "display_data"
    }
   ],
   "source": [
    "sns.set(color_codes=True)\n",
    "sns.set(rc={'figure.figsize':(12,10)})\n",
    "sns.distplot(data['Change 2006-2012.1'])"
   ]
  },
  {
   "cell_type": "code",
   "execution_count": 109,
   "metadata": {},
   "outputs": [],
   "source": [
    "sample_mean = -63\n",
    "pop_mean = data['Change 2005-2006.1']\n",
    "alpha = .01"
   ]
  },
  {
   "cell_type": "code",
   "execution_count": 114,
   "metadata": {},
   "outputs": [
    {
     "ename": "TypeError",
     "evalue": "tuple indices must be integers or slices, not float",
     "output_type": "error",
     "traceback": [
      "\u001b[0;31m---------------------------------------------------------------------------\u001b[0m",
      "\u001b[0;31mTypeError\u001b[0m                                 Traceback (most recent call last)",
      "\u001b[0;32m<ipython-input-114-a21bec678454>\u001b[0m in \u001b[0;36m<module>\u001b[0;34m()\u001b[0m\n\u001b[0;32m----> 1\u001b[0;31m \u001b[0mstats\u001b[0m\u001b[0;34m.\u001b[0m\u001b[0mttest_1samp\u001b[0m\u001b[0;34m(\u001b[0m\u001b[0msample_mean\u001b[0m\u001b[0;34m,\u001b[0m \u001b[0mpop_mean\u001b[0m\u001b[0;34m,\u001b[0m \u001b[0malpha\u001b[0m\u001b[0;34m)\u001b[0m\u001b[0;34m\u001b[0m\u001b[0m\n\u001b[0m",
      "\u001b[0;32m/anaconda3/lib/python3.7/site-packages/scipy/stats/stats.py\u001b[0m in \u001b[0;36mttest_1samp\u001b[0;34m(a, popmean, axis, nan_policy)\u001b[0m\n\u001b[1;32m   3824\u001b[0m         \u001b[0;32mreturn\u001b[0m \u001b[0mmstats_basic\u001b[0m\u001b[0;34m.\u001b[0m\u001b[0mttest_1samp\u001b[0m\u001b[0;34m(\u001b[0m\u001b[0ma\u001b[0m\u001b[0;34m,\u001b[0m \u001b[0mpopmean\u001b[0m\u001b[0;34m,\u001b[0m \u001b[0maxis\u001b[0m\u001b[0;34m)\u001b[0m\u001b[0;34m\u001b[0m\u001b[0m\n\u001b[1;32m   3825\u001b[0m \u001b[0;34m\u001b[0m\u001b[0m\n\u001b[0;32m-> 3826\u001b[0;31m     \u001b[0mn\u001b[0m \u001b[0;34m=\u001b[0m \u001b[0ma\u001b[0m\u001b[0;34m.\u001b[0m\u001b[0mshape\u001b[0m\u001b[0;34m[\u001b[0m\u001b[0maxis\u001b[0m\u001b[0;34m]\u001b[0m\u001b[0;34m\u001b[0m\u001b[0m\n\u001b[0m\u001b[1;32m   3827\u001b[0m     \u001b[0mdf\u001b[0m \u001b[0;34m=\u001b[0m \u001b[0mn\u001b[0m \u001b[0;34m-\u001b[0m \u001b[0;36m1\u001b[0m\u001b[0;34m\u001b[0m\u001b[0m\n\u001b[1;32m   3828\u001b[0m \u001b[0;34m\u001b[0m\u001b[0m\n",
      "\u001b[0;31mTypeError\u001b[0m: tuple indices must be integers or slices, not float"
     ]
    }
   ],
   "source": [
    "scipy.stats.ttest_ind_from_stats(-63, )"
   ]
  },
  {
   "cell_type": "code",
   "execution_count": null,
   "metadata": {},
   "outputs": [],
   "source": []
  }
 ],
 "metadata": {
  "kernelspec": {
   "display_name": "Python 3",
   "language": "python",
   "name": "python3"
  },
  "language_info": {
   "codemirror_mode": {
    "name": "ipython",
    "version": 3
   },
   "file_extension": ".py",
   "mimetype": "text/x-python",
   "name": "python",
   "nbconvert_exporter": "python",
   "pygments_lexer": "ipython3",
   "version": "3.7.0"
  }
 },
 "nbformat": 4,
 "nbformat_minor": 2
}
